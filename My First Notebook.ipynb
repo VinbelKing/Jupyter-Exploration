{
 "cells": [
  {
   "cell_type": "markdown",
   "id": "a6e95e34-6ae8-42fc-a1f3-8bd846524631",
   "metadata": {},
   "source": [
    "(\"My first markdown cell in Jupyter\")."
   ]
  },
  {
   "cell_type": "code",
   "execution_count": 1,
   "id": "2bfebddf-e2f3-4ccb-9b33-86715d44aa70",
   "metadata": {},
   "outputs": [
    {
     "name": "stdout",
     "output_type": "stream",
     "text": [
      "Hellow, World!\n"
     ]
    }
   ],
   "source": [
    "(\"Hellow, World!\")\n",
    "print((\"Hellow, World!\"))"
   ]
  },
  {
   "cell_type": "code",
   "execution_count": null,
   "id": "6b6469ef-7707-46f8-96f1-5d750414d58e",
   "metadata": {},
   "outputs": [],
   "source": []
  }
 ],
 "metadata": {
  "kernelspec": {
   "display_name": "Python 3 (ipykernel)",
   "language": "python",
   "name": "python3"
  },
  "language_info": {
   "codemirror_mode": {
    "name": "ipython",
    "version": 3
   },
   "file_extension": ".py",
   "mimetype": "text/x-python",
   "name": "python",
   "nbconvert_exporter": "python",
   "pygments_lexer": "ipython3",
   "version": "3.12.6"
  }
 },
 "nbformat": 4,
 "nbformat_minor": 5
}
